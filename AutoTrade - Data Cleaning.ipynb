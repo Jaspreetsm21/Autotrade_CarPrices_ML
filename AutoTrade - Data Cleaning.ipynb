{
 "cells": [
  {
   "cell_type": "code",
   "execution_count": 162,
   "metadata": {},
   "outputs": [],
   "source": [
    "import pandas as pd\n",
    "import numpy as np\n",
    "import seaborn as sns\n",
    "import matplotlib.pyplot as plt"
   ]
  },
  {
   "cell_type": "markdown",
   "metadata": {},
   "source": [
    "loading the scraped file(csv)"
   ]
  },
  {
   "cell_type": "code",
   "execution_count": 163,
   "metadata": {},
   "outputs": [],
   "source": [
    "data = pd.read_csv('auto_scraper.csv')"
   ]
  },
  {
   "cell_type": "code",
   "execution_count": 164,
   "metadata": {},
   "outputs": [],
   "source": [
    "#Lets view the first five rows "
   ]
  },
  {
   "cell_type": "code",
   "execution_count": 165,
   "metadata": {},
   "outputs": [
    {
     "data": {
      "text/html": [
       "<div>\n",
       "<style scoped>\n",
       "    .dataframe tbody tr th:only-of-type {\n",
       "        vertical-align: middle;\n",
       "    }\n",
       "\n",
       "    .dataframe tbody tr th {\n",
       "        vertical-align: top;\n",
       "    }\n",
       "\n",
       "    .dataframe thead th {\n",
       "        text-align: right;\n",
       "    }\n",
       "</style>\n",
       "<table border=\"1\" class=\"dataframe\">\n",
       "  <thead>\n",
       "    <tr style=\"text-align: right;\">\n",
       "      <th></th>\n",
       "      <th>Unnamed: 0</th>\n",
       "      <th>Car_Title</th>\n",
       "      <th>Car_Price</th>\n",
       "      <th>Car_Year</th>\n",
       "      <th>Car_Type_Door</th>\n",
       "      <th>Car_Mileage</th>\n",
       "      <th>Car_engine_size</th>\n",
       "      <th>Car_Horse_PW</th>\n",
       "      <th>Car_Type_Vehicle</th>\n",
       "      <th>Car_Filling_in</th>\n",
       "    </tr>\n",
       "  </thead>\n",
       "  <tbody>\n",
       "    <tr>\n",
       "      <th>0</th>\n",
       "      <td>0</td>\n",
       "      <td>Hyundai Tucson 1.6 GDi SE Manual 5dr</td>\n",
       "      <td>£13,699</td>\n",
       "      <td>2018</td>\n",
       "      <td>SUV</td>\n",
       "      <td>19,228</td>\n",
       "      <td>1.6L</td>\n",
       "      <td>132PS</td>\n",
       "      <td>Manual</td>\n",
       "      <td>Petrol</td>\n",
       "    </tr>\n",
       "    <tr>\n",
       "      <th>1</th>\n",
       "      <td>1</td>\n",
       "      <td>BMW 2 Series 3.0 M235i Sport Auto (s/s) 2dr</td>\n",
       "      <td>£19,000</td>\n",
       "      <td>2016</td>\n",
       "      <td>Coupe</td>\n",
       "      <td>12,000</td>\n",
       "      <td>3.0L</td>\n",
       "      <td>326BHP</td>\n",
       "      <td>Automatic</td>\n",
       "      <td>Petrol</td>\n",
       "    </tr>\n",
       "    <tr>\n",
       "      <th>2</th>\n",
       "      <td>2</td>\n",
       "      <td>Nissan Note 1.6 16v Acenta 5dr</td>\n",
       "      <td>£1,205</td>\n",
       "      <td>2007</td>\n",
       "      <td>Hatchback</td>\n",
       "      <td>70,699</td>\n",
       "      <td>1.6L</td>\n",
       "      <td>109BHP</td>\n",
       "      <td>Manual</td>\n",
       "      <td>Petrol</td>\n",
       "    </tr>\n",
       "    <tr>\n",
       "      <th>3</th>\n",
       "      <td>3</td>\n",
       "      <td>Volkswagen Touareg 5.0 TDI V10 5dr</td>\n",
       "      <td>£5,750</td>\n",
       "      <td>2005</td>\n",
       "      <td>SUV</td>\n",
       "      <td>137,000</td>\n",
       "      <td>5.0L</td>\n",
       "      <td>307BHP</td>\n",
       "      <td>Automatic</td>\n",
       "      <td>Diesel</td>\n",
       "    </tr>\n",
       "    <tr>\n",
       "      <th>4</th>\n",
       "      <td>4</td>\n",
       "      <td>Audi A1 2.0 TDI Amplified Edition Sportback 5...</td>\n",
       "      <td>£35,000</td>\n",
       "      <td>2012</td>\n",
       "      <td>Hatchback</td>\n",
       "      <td>95,000</td>\n",
       "      <td>2.0L</td>\n",
       "      <td>141BHP</td>\n",
       "      <td>Manual</td>\n",
       "      <td>Diesel</td>\n",
       "    </tr>\n",
       "  </tbody>\n",
       "</table>\n",
       "</div>"
      ],
      "text/plain": [
       "   Unnamed: 0                                          Car_Title Car_Price  \\\n",
       "0           0          Hyundai Tucson 1.6 GDi SE Manual 5dr        £13,699   \n",
       "1           1   BMW 2 Series 3.0 M235i Sport Auto (s/s) 2dr        £19,000   \n",
       "2           2                Nissan Note 1.6 16v Acenta 5dr         £1,205   \n",
       "3           3            Volkswagen Touareg 5.0 TDI V10 5dr         £5,750   \n",
       "4           4   Audi A1 2.0 TDI Amplified Edition Sportback 5...   £35,000   \n",
       "\n",
       "  Car_Year Car_Type_Door Car_Mileage Car_engine_size Car_Horse_PW  \\\n",
       "0     2018           SUV      19,228            1.6L        132PS   \n",
       "1     2016         Coupe      12,000            3.0L       326BHP   \n",
       "2     2007     Hatchback      70,699            1.6L       109BHP   \n",
       "3     2005           SUV     137,000            5.0L       307BHP   \n",
       "4     2012     Hatchback      95,000            2.0L       141BHP   \n",
       "\n",
       "  Car_Type_Vehicle Car_Filling_in  \n",
       "0           Manual         Petrol  \n",
       "1        Automatic         Petrol  \n",
       "2           Manual         Petrol  \n",
       "3        Automatic         Diesel  \n",
       "4           Manual         Diesel  "
      ]
     },
     "execution_count": 165,
     "metadata": {},
     "output_type": "execute_result"
    }
   ],
   "source": [
    "data.head()"
   ]
  },
  {
   "cell_type": "code",
   "execution_count": 166,
   "metadata": {},
   "outputs": [
    {
     "name": "stdout",
     "output_type": "stream",
     "text": [
      "Scraped data: (9575, 10)\n"
     ]
    }
   ],
   "source": [
    "print('Scraped data:',data.shape)"
   ]
  },
  {
   "cell_type": "markdown",
   "metadata": {},
   "source": [
    "# Missing Values"
   ]
  },
  {
   "cell_type": "code",
   "execution_count": 167,
   "metadata": {},
   "outputs": [],
   "source": [
    "#Let check if the data has any missing values"
   ]
  },
  {
   "cell_type": "code",
   "execution_count": 168,
   "metadata": {},
   "outputs": [
    {
     "data": {
      "text/plain": [
       "Unnamed: 0            0\n",
       "Car_Title             0\n",
       "Car_Price             0\n",
       "Car_Year            384\n",
       "Car_Type_Door       384\n",
       "Car_Mileage         384\n",
       "Car_engine_size     384\n",
       "Car_Horse_PW        384\n",
       "Car_Type_Vehicle    384\n",
       "Car_Filling_in      384\n",
       "dtype: int64"
      ]
     },
     "execution_count": 168,
     "metadata": {},
     "output_type": "execute_result"
    }
   ],
   "source": [
    "data.isnull().sum()"
   ]
  },
  {
   "cell_type": "markdown",
   "metadata": {},
   "source": [
    "- There are 384 Missing data across the dataFrame and I will be dropping these rows.\n",
    "- I will also be dropping 'Unnamed: 0' columns as it provides no helpful information.\n",
    "- Further I will investigate if all the columns had the right data scrapered."
   ]
  },
  {
   "cell_type": "code",
   "execution_count": 169,
   "metadata": {},
   "outputs": [],
   "source": [
    "data = data.dropna()"
   ]
  },
  {
   "cell_type": "code",
   "execution_count": 170,
   "metadata": {},
   "outputs": [],
   "source": [
    "data = data.drop('Unnamed: 0',axis=1)"
   ]
  },
  {
   "cell_type": "code",
   "execution_count": 171,
   "metadata": {},
   "outputs": [
    {
     "data": {
      "text/plain": [
       "Petrol    176\n",
       "Diesel     92\n",
       "Van        57\n",
       "60,000     47\n",
       "80,000     47\n",
       "         ... \n",
       "1,053       1\n",
       "3,749       1\n",
       "20,590      1\n",
       "6,855       1\n",
       "75,525      1\n",
       "Name: Car_Mileage, Length: 6104, dtype: int64"
      ]
     },
     "execution_count": 171,
     "metadata": {},
     "output_type": "execute_result"
    }
   ],
   "source": [
    "data.Car_Mileage.value_counts()"
   ]
  },
  {
   "cell_type": "code",
   "execution_count": 172,
   "metadata": {},
   "outputs": [
    {
     "data": {
      "text/plain": [
       "Petrol          4467\n",
       "Diesel          3876\n",
       "included         268\n",
       "Hybrid           211\n",
       "miles            111\n",
       "Manual            39\n",
       "1                 39\n",
       "Full              29\n",
       "ULEZ              20\n",
       "warranty          19\n",
       "Automatic         17\n",
       "2                 16\n",
       "year              15\n",
       "owners            13\n",
       "3                  8\n",
       "manufacturer       7\n",
       "tax                6\n",
       "service            5\n",
       "owner              5\n",
       "Part               4\n",
       "4                  4\n",
       "–                  3\n",
       "road               2\n",
       "Bi                 1\n",
       "94BHP              1\n",
       "125PS              1\n",
       "74BHP              1\n",
       "67BHP              1\n",
       "110BHP             1\n",
       "5                  1\n",
       "Name: Car_Filling_in, dtype: int64"
      ]
     },
     "execution_count": 172,
     "metadata": {},
     "output_type": "execute_result"
    }
   ],
   "source": [
    "data.Car_Filling_in.value_counts()"
   ]
  },
  {
   "cell_type": "markdown",
   "metadata": {},
   "source": [
    "It look we have scrapered some data that imported into wrong columns. So I'm going to filter the data for Petrol, Diesel and Hybrid cars only.\n"
   ]
  },
  {
   "cell_type": "code",
   "execution_count": 173,
   "metadata": {},
   "outputs": [],
   "source": [
    "data = data[data['Car_Filling_in'].isin(['Petrol','Diesel','Hybrid'])]"
   ]
  },
  {
   "cell_type": "code",
   "execution_count": 174,
   "metadata": {},
   "outputs": [],
   "source": [
    "data = data[data['Car_Mileage'] != 'Van']"
   ]
  },
  {
   "cell_type": "code",
   "execution_count": 175,
   "metadata": {},
   "outputs": [
    {
     "name": "stdout",
     "output_type": "stream",
     "text": [
      "After Removing the missing/wrong data: 8553\n"
     ]
    }
   ],
   "source": [
    "print('After Removing the missing/wrong data:',data.shape[0])"
   ]
  },
  {
   "cell_type": "markdown",
   "metadata": {},
   "source": [
    "We Can extract the make of the car from Car_Title Column "
   ]
  },
  {
   "cell_type": "code",
   "execution_count": 176,
   "metadata": {},
   "outputs": [],
   "source": [
    "data['Car_Make'] = data.Car_Title.str.split().str.get(0)"
   ]
  },
  {
   "cell_type": "code",
   "execution_count": 177,
   "metadata": {},
   "outputs": [
    {
     "data": {
      "text/html": [
       "<div>\n",
       "<style scoped>\n",
       "    .dataframe tbody tr th:only-of-type {\n",
       "        vertical-align: middle;\n",
       "    }\n",
       "\n",
       "    .dataframe tbody tr th {\n",
       "        vertical-align: top;\n",
       "    }\n",
       "\n",
       "    .dataframe thead th {\n",
       "        text-align: right;\n",
       "    }\n",
       "</style>\n",
       "<table border=\"1\" class=\"dataframe\">\n",
       "  <thead>\n",
       "    <tr style=\"text-align: right;\">\n",
       "      <th></th>\n",
       "      <th>Car_Title</th>\n",
       "      <th>Car_Price</th>\n",
       "      <th>Car_Year</th>\n",
       "      <th>Car_Type_Door</th>\n",
       "      <th>Car_Mileage</th>\n",
       "      <th>Car_engine_size</th>\n",
       "      <th>Car_Horse_PW</th>\n",
       "      <th>Car_Type_Vehicle</th>\n",
       "      <th>Car_Filling_in</th>\n",
       "      <th>Car_Make</th>\n",
       "    </tr>\n",
       "  </thead>\n",
       "  <tbody>\n",
       "    <tr>\n",
       "      <th>0</th>\n",
       "      <td>Hyundai Tucson 1.6 GDi SE Manual 5dr</td>\n",
       "      <td>£13,699</td>\n",
       "      <td>2018</td>\n",
       "      <td>SUV</td>\n",
       "      <td>19,228</td>\n",
       "      <td>1.6L</td>\n",
       "      <td>132PS</td>\n",
       "      <td>Manual</td>\n",
       "      <td>Petrol</td>\n",
       "      <td>Hyundai</td>\n",
       "    </tr>\n",
       "    <tr>\n",
       "      <th>1</th>\n",
       "      <td>BMW 2 Series 3.0 M235i Sport Auto (s/s) 2dr</td>\n",
       "      <td>£19,000</td>\n",
       "      <td>2016</td>\n",
       "      <td>Coupe</td>\n",
       "      <td>12,000</td>\n",
       "      <td>3.0L</td>\n",
       "      <td>326BHP</td>\n",
       "      <td>Automatic</td>\n",
       "      <td>Petrol</td>\n",
       "      <td>BMW</td>\n",
       "    </tr>\n",
       "    <tr>\n",
       "      <th>2</th>\n",
       "      <td>Nissan Note 1.6 16v Acenta 5dr</td>\n",
       "      <td>£1,205</td>\n",
       "      <td>2007</td>\n",
       "      <td>Hatchback</td>\n",
       "      <td>70,699</td>\n",
       "      <td>1.6L</td>\n",
       "      <td>109BHP</td>\n",
       "      <td>Manual</td>\n",
       "      <td>Petrol</td>\n",
       "      <td>Nissan</td>\n",
       "    </tr>\n",
       "    <tr>\n",
       "      <th>3</th>\n",
       "      <td>Volkswagen Touareg 5.0 TDI V10 5dr</td>\n",
       "      <td>£5,750</td>\n",
       "      <td>2005</td>\n",
       "      <td>SUV</td>\n",
       "      <td>137,000</td>\n",
       "      <td>5.0L</td>\n",
       "      <td>307BHP</td>\n",
       "      <td>Automatic</td>\n",
       "      <td>Diesel</td>\n",
       "      <td>Volkswagen</td>\n",
       "    </tr>\n",
       "    <tr>\n",
       "      <th>4</th>\n",
       "      <td>Audi A1 2.0 TDI Amplified Edition Sportback 5...</td>\n",
       "      <td>£35,000</td>\n",
       "      <td>2012</td>\n",
       "      <td>Hatchback</td>\n",
       "      <td>95,000</td>\n",
       "      <td>2.0L</td>\n",
       "      <td>141BHP</td>\n",
       "      <td>Manual</td>\n",
       "      <td>Diesel</td>\n",
       "      <td>Audi</td>\n",
       "    </tr>\n",
       "  </tbody>\n",
       "</table>\n",
       "</div>"
      ],
      "text/plain": [
       "                                           Car_Title Car_Price Car_Year  \\\n",
       "0          Hyundai Tucson 1.6 GDi SE Manual 5dr        £13,699     2018   \n",
       "1   BMW 2 Series 3.0 M235i Sport Auto (s/s) 2dr        £19,000     2016   \n",
       "2                Nissan Note 1.6 16v Acenta 5dr         £1,205     2007   \n",
       "3            Volkswagen Touareg 5.0 TDI V10 5dr         £5,750     2005   \n",
       "4   Audi A1 2.0 TDI Amplified Edition Sportback 5...   £35,000     2012   \n",
       "\n",
       "  Car_Type_Door Car_Mileage Car_engine_size Car_Horse_PW Car_Type_Vehicle  \\\n",
       "0           SUV      19,228            1.6L        132PS           Manual   \n",
       "1         Coupe      12,000            3.0L       326BHP        Automatic   \n",
       "2     Hatchback      70,699            1.6L       109BHP           Manual   \n",
       "3           SUV     137,000            5.0L       307BHP        Automatic   \n",
       "4     Hatchback      95,000            2.0L       141BHP           Manual   \n",
       "\n",
       "  Car_Filling_in    Car_Make  \n",
       "0         Petrol     Hyundai  \n",
       "1         Petrol         BMW  \n",
       "2         Petrol      Nissan  \n",
       "3         Diesel  Volkswagen  \n",
       "4         Diesel        Audi  "
      ]
     },
     "execution_count": 177,
     "metadata": {},
     "output_type": "execute_result"
    }
   ],
   "source": [
    "data.head()"
   ]
  },
  {
   "cell_type": "markdown",
   "metadata": {},
   "source": [
    "# Changing the Dtypes "
   ]
  },
  {
   "cell_type": "code",
   "execution_count": 178,
   "metadata": {},
   "outputs": [
    {
     "data": {
      "text/plain": [
       "Car_Title           object\n",
       "Car_Price           object\n",
       "Car_Year            object\n",
       "Car_Type_Door       object\n",
       "Car_Mileage         object\n",
       "Car_engine_size     object\n",
       "Car_Horse_PW        object\n",
       "Car_Type_Vehicle    object\n",
       "Car_Filling_in      object\n",
       "Car_Make            object\n",
       "dtype: object"
      ]
     },
     "execution_count": 178,
     "metadata": {},
     "output_type": "execute_result"
    }
   ],
   "source": [
    "data.dtypes"
   ]
  },
  {
   "cell_type": "markdown",
   "metadata": {},
   "source": [
    "- Converting Car_Price and Car_Milleage into Numeric Values\n",
    "- Before that remove £ sign and comma from each of the columns"
   ]
  },
  {
   "cell_type": "code",
   "execution_count": 179,
   "metadata": {},
   "outputs": [],
   "source": [
    "data['Car_Price'] = data['Car_Price'].str.replace('£','')\n",
    "data['Car_Price'] = data['Car_Price'].str.replace(',','')"
   ]
  },
  {
   "cell_type": "code",
   "execution_count": 182,
   "metadata": {},
   "outputs": [],
   "source": [
    "data['Car_Price'] = pd.to_numeric(data['Car_Price'])"
   ]
  },
  {
   "cell_type": "code",
   "execution_count": 183,
   "metadata": {},
   "outputs": [],
   "source": [
    "data['Car_Mileage'] = data['Car_Mileage'].str.replace(',','')"
   ]
  },
  {
   "cell_type": "code",
   "execution_count": 185,
   "metadata": {},
   "outputs": [],
   "source": [
    "data['Car_Mileage'] = pd.to_numeric( data['Car_Mileage'])"
   ]
  },
  {
   "cell_type": "code",
   "execution_count": 186,
   "metadata": {},
   "outputs": [
    {
     "data": {
      "text/html": [
       "<div>\n",
       "<style scoped>\n",
       "    .dataframe tbody tr th:only-of-type {\n",
       "        vertical-align: middle;\n",
       "    }\n",
       "\n",
       "    .dataframe tbody tr th {\n",
       "        vertical-align: top;\n",
       "    }\n",
       "\n",
       "    .dataframe thead th {\n",
       "        text-align: right;\n",
       "    }\n",
       "</style>\n",
       "<table border=\"1\" class=\"dataframe\">\n",
       "  <thead>\n",
       "    <tr style=\"text-align: right;\">\n",
       "      <th></th>\n",
       "      <th>Car_Title</th>\n",
       "      <th>Car_Price</th>\n",
       "      <th>Car_Year</th>\n",
       "      <th>Car_Type_Door</th>\n",
       "      <th>Car_Mileage</th>\n",
       "      <th>Car_engine_size</th>\n",
       "      <th>Car_Horse_PW</th>\n",
       "      <th>Car_Type_Vehicle</th>\n",
       "      <th>Car_Filling_in</th>\n",
       "      <th>Car_Make</th>\n",
       "    </tr>\n",
       "  </thead>\n",
       "  <tbody>\n",
       "    <tr>\n",
       "      <th>0</th>\n",
       "      <td>Hyundai Tucson 1.6 GDi SE Manual 5dr</td>\n",
       "      <td>13699</td>\n",
       "      <td>2018</td>\n",
       "      <td>SUV</td>\n",
       "      <td>19228</td>\n",
       "      <td>1.6L</td>\n",
       "      <td>132PS</td>\n",
       "      <td>Manual</td>\n",
       "      <td>Petrol</td>\n",
       "      <td>Hyundai</td>\n",
       "    </tr>\n",
       "    <tr>\n",
       "      <th>1</th>\n",
       "      <td>BMW 2 Series 3.0 M235i Sport Auto (s/s) 2dr</td>\n",
       "      <td>19000</td>\n",
       "      <td>2016</td>\n",
       "      <td>Coupe</td>\n",
       "      <td>12000</td>\n",
       "      <td>3.0L</td>\n",
       "      <td>326BHP</td>\n",
       "      <td>Automatic</td>\n",
       "      <td>Petrol</td>\n",
       "      <td>BMW</td>\n",
       "    </tr>\n",
       "    <tr>\n",
       "      <th>2</th>\n",
       "      <td>Nissan Note 1.6 16v Acenta 5dr</td>\n",
       "      <td>1205</td>\n",
       "      <td>2007</td>\n",
       "      <td>Hatchback</td>\n",
       "      <td>70699</td>\n",
       "      <td>1.6L</td>\n",
       "      <td>109BHP</td>\n",
       "      <td>Manual</td>\n",
       "      <td>Petrol</td>\n",
       "      <td>Nissan</td>\n",
       "    </tr>\n",
       "    <tr>\n",
       "      <th>3</th>\n",
       "      <td>Volkswagen Touareg 5.0 TDI V10 5dr</td>\n",
       "      <td>5750</td>\n",
       "      <td>2005</td>\n",
       "      <td>SUV</td>\n",
       "      <td>137000</td>\n",
       "      <td>5.0L</td>\n",
       "      <td>307BHP</td>\n",
       "      <td>Automatic</td>\n",
       "      <td>Diesel</td>\n",
       "      <td>Volkswagen</td>\n",
       "    </tr>\n",
       "    <tr>\n",
       "      <th>4</th>\n",
       "      <td>Audi A1 2.0 TDI Amplified Edition Sportback 5...</td>\n",
       "      <td>35000</td>\n",
       "      <td>2012</td>\n",
       "      <td>Hatchback</td>\n",
       "      <td>95000</td>\n",
       "      <td>2.0L</td>\n",
       "      <td>141BHP</td>\n",
       "      <td>Manual</td>\n",
       "      <td>Diesel</td>\n",
       "      <td>Audi</td>\n",
       "    </tr>\n",
       "  </tbody>\n",
       "</table>\n",
       "</div>"
      ],
      "text/plain": [
       "                                           Car_Title  Car_Price Car_Year  \\\n",
       "0          Hyundai Tucson 1.6 GDi SE Manual 5dr           13699     2018   \n",
       "1   BMW 2 Series 3.0 M235i Sport Auto (s/s) 2dr           19000     2016   \n",
       "2                Nissan Note 1.6 16v Acenta 5dr            1205     2007   \n",
       "3            Volkswagen Touareg 5.0 TDI V10 5dr            5750     2005   \n",
       "4   Audi A1 2.0 TDI Amplified Edition Sportback 5...      35000     2012   \n",
       "\n",
       "  Car_Type_Door  Car_Mileage Car_engine_size Car_Horse_PW Car_Type_Vehicle  \\\n",
       "0           SUV        19228            1.6L        132PS           Manual   \n",
       "1         Coupe        12000            3.0L       326BHP        Automatic   \n",
       "2     Hatchback        70699            1.6L       109BHP           Manual   \n",
       "3           SUV       137000            5.0L       307BHP        Automatic   \n",
       "4     Hatchback        95000            2.0L       141BHP           Manual   \n",
       "\n",
       "  Car_Filling_in    Car_Make  \n",
       "0         Petrol     Hyundai  \n",
       "1         Petrol         BMW  \n",
       "2         Petrol      Nissan  \n",
       "3         Diesel  Volkswagen  \n",
       "4         Diesel        Audi  "
      ]
     },
     "execution_count": 186,
     "metadata": {},
     "output_type": "execute_result"
    }
   ],
   "source": [
    "data.head()"
   ]
  },
  {
   "cell_type": "markdown",
   "metadata": {},
   "source": [
    "# export to CSV"
   ]
  },
  {
   "cell_type": "code",
   "execution_count": 187,
   "metadata": {},
   "outputs": [],
   "source": [
    "data.to_csv('Data_Cleaning.csv')"
   ]
  }
 ],
 "metadata": {
  "kernelspec": {
   "display_name": "Python 3",
   "language": "python",
   "name": "python3"
  },
  "language_info": {
   "codemirror_mode": {
    "name": "ipython",
    "version": 3
   },
   "file_extension": ".py",
   "mimetype": "text/x-python",
   "name": "python",
   "nbconvert_exporter": "python",
   "pygments_lexer": "ipython3",
   "version": "3.6.5"
  }
 },
 "nbformat": 4,
 "nbformat_minor": 4
}
