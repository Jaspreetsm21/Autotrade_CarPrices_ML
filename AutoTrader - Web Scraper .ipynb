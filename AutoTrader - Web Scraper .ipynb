{
 "cells": [
  {
   "cell_type": "markdown",
   "metadata": {},
   "source": [
    "Scraping Auto trader website to extract relevant information about cars using BeautifulSoup Library."
   ]
  },
  {
   "cell_type": "code",
   "execution_count": 2,
   "metadata": {},
   "outputs": [],
   "source": [
    "#import Libraries\n",
    "from urllib.request import urlopen\n",
    "from bs4 import BeautifulSoup"
   ]
  },
  {
   "cell_type": "markdown",
   "metadata": {},
   "source": [
    "Auto trader only allows to scraper top 1000 listing per search. To extract large amount of data, I created a list of postcode around the UK and used for loop to scraper car data around postcodes and pages."
   ]
  },
  {
   "cell_type": "markdown",
   "metadata": {},
   "source": [
    "# Web scraper"
   ]
  },
  {
   "cell_type": "markdown",
   "metadata": {},
   "source": [
    "1. I decided to pick 10 postcodes around the UK to extract large amount of data as 1000 listing per Search and each page has roughly 10 car listings\n",
    "\n",
    "2. I'm extracting information like car title, prices, mileage, engine size ,gearbox and etc.\n",
    "\n",
    "3. I have also created a empty list and appending the extract data into that list\n",
    "\n",
    "4. Converting list to DataFrame\n",
    "\n",
    "5. Exporting data into csv file."
   ]
  },
  {
   "cell_type": "code",
   "execution_count": 3,
   "metadata": {},
   "outputs": [],
   "source": [
    "# I create the following postcodes\n",
    "postcode = ['BH11AR','SL14DX','SY231AB','TR196PJ','BN207AE','BS247EY','NR293PS','PE251FD','LL536ED','HS29DX']\n",
    "\n",
    "#empty lists \n",
    "car_title =[]\n",
    "car_price = []\n",
    "\n",
    "#empty dict \n",
    "veh_dict_2 = {}\n",
    "for x in range(0,10):\n",
    "    veh_dict_2['att{0}'.format(x)] = []\n",
    "\n",
    "for page in range(1, 100):  #each pages has 10 listing, so the range is set up for 100 (1000 listing per search)\n",
    "    for code in postcode:   #each postcode \n",
    "        \n",
    "        #url for the web scraper \n",
    "        \n",
    "        req_url = f\"https://www.autotrader.co.uk/car-search?sort=distance&\" \\\n",
    "                f\"postcode={code}&radius=200&onesearchad=Used&onesearchad=Nearly%20New&\" \\\n",
    "                f\"onesearchad=New&page={page}\"\n",
    "        \n",
    "        req = urlopen(req_url)\n",
    "        #print(req_url)\n",
    "        page_html = req.read()\n",
    "        req.close()\n",
    "        page_soup = BeautifulSoup(page_html, \"html.parser\")\n",
    "        #print(page_soup)\n",
    "        \n",
    "        \n",
    "        \n",
    "        #BeautifulSoup.findAll is deprecated use find_all instead\n",
    "        listings = page_soup.find_all(\"li\", {\"class\": \"search-page__result\"})\n",
    "        for listing in listings:\n",
    "            information_container = listing.find(\"div\", {\"class\": \"information-container\"})\n",
    "            title_container = information_container.find(\"a\", {\n",
    "               \"class\": \"js-click-handler listing-fpa-link tracking-standard-link\"})\n",
    "            title = title_container.text.replace('\\n',' ')\n",
    "            price = listing.find(\"div\", {\"class\": \"vehicle-price\"}).text\n",
    "            #print(title)\n",
    "            car_title.append(title)\n",
    "            car_price.append(price)\n",
    "\n",
    "            #Vehcile Information\n",
    "            Veh_information = listing.find('ul', class_='listing-key-specs')\n",
    "            specs = Veh_information.find_all('li')\n",
    "            for i, att in enumerate(veh_dict_2.keys()):\n",
    "                try:\n",
    "                    veh_dict_2[att].append(specs[i].text.strip())\n",
    "                except:\n",
    "                    veh_dict_2[att].append(None)\n",
    "                #print(specs_dict)\n"
   ]
  },
  {
   "cell_type": "markdown",
   "metadata": {},
   "source": [
    "# Lists to DataFrame"
   ]
  },
  {
   "cell_type": "code",
   "execution_count": 4,
   "metadata": {},
   "outputs": [],
   "source": [
    "#using pandas library\n",
    "import pandas as pd"
   ]
  },
  {
   "cell_type": "code",
   "execution_count": 5,
   "metadata": {},
   "outputs": [],
   "source": [
    "vec_1 = pd.DataFrame({ 'Car_Title':car_title,\n",
    "  'Car_Price':car_price\n",
    "})"
   ]
  },
  {
   "cell_type": "code",
   "execution_count": 6,
   "metadata": {},
   "outputs": [],
   "source": [
    "vec_2 =pd.DataFrame(veh_dict_2)\n",
    "vec_2.columns = ['Reg_Year','Car_Type_Door','Car_Mileage','Car_engine_size','Car_Horse_PW','Car_Type_Vehicle','Car_Filling_in','Type_of_owner','Car_Service_History','Car_Other']"
   ]
  },
  {
   "cell_type": "code",
   "execution_count": 7,
   "metadata": {},
   "outputs": [],
   "source": [
    "data = pd.concat([vec_1,vec_2],axis=1)"
   ]
  },
  {
   "cell_type": "markdown",
   "metadata": {},
   "source": [
    "Data scraped from each of the postcode can overlap each other, so I'm going to drop any duplications."
   ]
  },
  {
   "cell_type": "code",
   "execution_count": 8,
   "metadata": {},
   "outputs": [],
   "source": [
    "data=data.drop_duplicates()"
   ]
  },
  {
   "cell_type": "code",
   "execution_count": 10,
   "metadata": {},
   "outputs": [
    {
     "data": {
      "text/html": [
       "<div>\n",
       "<style scoped>\n",
       "    .dataframe tbody tr th:only-of-type {\n",
       "        vertical-align: middle;\n",
       "    }\n",
       "\n",
       "    .dataframe tbody tr th {\n",
       "        vertical-align: top;\n",
       "    }\n",
       "\n",
       "    .dataframe thead th {\n",
       "        text-align: right;\n",
       "    }\n",
       "</style>\n",
       "<table border=\"1\" class=\"dataframe\">\n",
       "  <thead>\n",
       "    <tr style=\"text-align: right;\">\n",
       "      <th></th>\n",
       "      <th>Car_Title</th>\n",
       "      <th>Car_Price</th>\n",
       "      <th>Reg_Year</th>\n",
       "      <th>Car_Type_Door</th>\n",
       "      <th>Car_Mileage</th>\n",
       "      <th>Car_engine_size</th>\n",
       "      <th>Car_Horse_PW</th>\n",
       "      <th>Car_Type_Vehicle</th>\n",
       "      <th>Car_Filling_in</th>\n",
       "      <th>Type_of_owner</th>\n",
       "      <th>Car_Service_History</th>\n",
       "      <th>Car_Other</th>\n",
       "    </tr>\n",
       "  </thead>\n",
       "  <tbody>\n",
       "    <tr>\n",
       "      <th>0</th>\n",
       "      <td>Nissan Qashqai 1.5L Acenta dCi 5dr</td>\n",
       "      <td>£11,100</td>\n",
       "      <td>2017 (66 reg)</td>\n",
       "      <td>SUV</td>\n",
       "      <td>22,165 miles</td>\n",
       "      <td>1.5L</td>\n",
       "      <td>114BHP</td>\n",
       "      <td>Manual</td>\n",
       "      <td>Diesel</td>\n",
       "      <td>ULEZ</td>\n",
       "      <td>None</td>\n",
       "      <td>None</td>\n",
       "    </tr>\n",
       "    <tr>\n",
       "      <th>1</th>\n",
       "      <td>Peugeot 206 1.6 16v Sport 3dr</td>\n",
       "      <td>£655</td>\n",
       "      <td>2005 (55 reg)</td>\n",
       "      <td>Hatchback</td>\n",
       "      <td>100,500 miles</td>\n",
       "      <td>1.6L</td>\n",
       "      <td>110BHP</td>\n",
       "      <td>Manual</td>\n",
       "      <td>Petrol</td>\n",
       "      <td>4 owners</td>\n",
       "      <td>Part service history</td>\n",
       "      <td>None</td>\n",
       "    </tr>\n",
       "    <tr>\n",
       "      <th>2</th>\n",
       "      <td>Vauxhall Astra 1.6 i 16v Elite 5dr</td>\n",
       "      <td>£1,650</td>\n",
       "      <td>2008 (08 reg)</td>\n",
       "      <td>Hatchback</td>\n",
       "      <td>119,051 miles</td>\n",
       "      <td>1.6L</td>\n",
       "      <td>113BHP</td>\n",
       "      <td>Manual</td>\n",
       "      <td>Petrol</td>\n",
       "      <td>4 owners</td>\n",
       "      <td>ULEZ</td>\n",
       "      <td>None</td>\n",
       "    </tr>\n",
       "    <tr>\n",
       "      <th>3</th>\n",
       "      <td>Audi A1 2.0 TDI Amplified Edition Sportback 5...</td>\n",
       "      <td>£35,000</td>\n",
       "      <td>2012 (62 reg)</td>\n",
       "      <td>Hatchback</td>\n",
       "      <td>95,000 miles</td>\n",
       "      <td>2.0L</td>\n",
       "      <td>141BHP</td>\n",
       "      <td>Manual</td>\n",
       "      <td>Diesel</td>\n",
       "      <td>1 owner</td>\n",
       "      <td>Full service history</td>\n",
       "      <td>None</td>\n",
       "    </tr>\n",
       "    <tr>\n",
       "      <th>4</th>\n",
       "      <td>Mercedes-Benz CLS 2.1 CLS250 BlueEFFICIENCY 7...</td>\n",
       "      <td>£13,750</td>\n",
       "      <td>2013 (13 reg)</td>\n",
       "      <td>Coupe</td>\n",
       "      <td>47,000 miles</td>\n",
       "      <td>2.1L</td>\n",
       "      <td>201BHP</td>\n",
       "      <td>Automatic</td>\n",
       "      <td>Diesel</td>\n",
       "      <td>2 owners</td>\n",
       "      <td>None</td>\n",
       "      <td>None</td>\n",
       "    </tr>\n",
       "  </tbody>\n",
       "</table>\n",
       "</div>"
      ],
      "text/plain": [
       "                                           Car_Title Car_Price       Reg_Year  \\\n",
       "0            Nissan Qashqai 1.5L Acenta dCi 5dr        £11,100  2017 (66 reg)   \n",
       "1                 Peugeot 206 1.6 16v Sport 3dr           £655  2005 (55 reg)   \n",
       "2            Vauxhall Astra 1.6 i 16v Elite 5dr         £1,650  2008 (08 reg)   \n",
       "3   Audi A1 2.0 TDI Amplified Edition Sportback 5...   £35,000  2012 (62 reg)   \n",
       "4   Mercedes-Benz CLS 2.1 CLS250 BlueEFFICIENCY 7...   £13,750  2013 (13 reg)   \n",
       "\n",
       "  Car_Type_Door    Car_Mileage Car_engine_size Car_Horse_PW Car_Type_Vehicle  \\\n",
       "0           SUV   22,165 miles            1.5L       114BHP           Manual   \n",
       "1     Hatchback  100,500 miles            1.6L       110BHP           Manual   \n",
       "2     Hatchback  119,051 miles            1.6L       113BHP           Manual   \n",
       "3     Hatchback   95,000 miles            2.0L       141BHP           Manual   \n",
       "4         Coupe   47,000 miles            2.1L       201BHP        Automatic   \n",
       "\n",
       "  Car_Filling_in Type_of_owner   Car_Service_History Car_Other  \n",
       "0         Diesel          ULEZ                  None      None  \n",
       "1         Petrol      4 owners  Part service history      None  \n",
       "2         Petrol      4 owners                  ULEZ      None  \n",
       "3         Diesel       1 owner  Full service history      None  \n",
       "4         Diesel      2 owners                  None      None  "
      ]
     },
     "execution_count": 10,
     "metadata": {},
     "output_type": "execute_result"
    }
   ],
   "source": [
    "data.head()"
   ]
  },
  {
   "cell_type": "markdown",
   "metadata": {},
   "source": [
    "# export to csv"
   ]
  },
  {
   "cell_type": "code",
   "execution_count": 11,
   "metadata": {},
   "outputs": [],
   "source": [
    "#data.to_csv('auto_scraper.csv')\n",
    "#data.to_csv('web_scraper.csv')"
   ]
  },
  {
   "cell_type": "code",
   "execution_count": null,
   "metadata": {},
   "outputs": [],
   "source": []
  }
 ],
 "metadata": {
  "kernelspec": {
   "display_name": "Python 3",
   "language": "python",
   "name": "python3"
  },
  "language_info": {
   "codemirror_mode": {
    "name": "ipython",
    "version": 3
   },
   "file_extension": ".py",
   "mimetype": "text/x-python",
   "name": "python",
   "nbconvert_exporter": "python",
   "pygments_lexer": "ipython3",
   "version": "3.6.5"
  }
 },
 "nbformat": 4,
 "nbformat_minor": 4
}
