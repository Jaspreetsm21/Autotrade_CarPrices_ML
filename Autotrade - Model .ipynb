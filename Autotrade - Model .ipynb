{
 "cells": [
  {
   "cell_type": "markdown",
   "metadata": {},
   "source": [
    "I scraped the data from Auto trade, which is the number one website to buying car in the UK. I will be using Machine Learning Models to predict the Car Prices. Before that, I will be taking necessary steps to set up the data:\n",
    "\n",
    "- Check missing values and outliers (done in EDA)\n",
    "\n",
    "- converting categorical data into get dummies"
   ]
  },
  {
   "cell_type": "code",
   "execution_count": 1,
   "metadata": {},
   "outputs": [],
   "source": [
    "#libraries\n",
    "import pandas as pd\n",
    "import numpy as np\n",
    "import matplotlib.pyplot as plt\n",
    "import seaborn as sns"
   ]
  },
  {
   "cell_type": "code",
   "execution_count": 2,
   "metadata": {},
   "outputs": [],
   "source": [
    "# import data after EDA "
   ]
  },
  {
   "cell_type": "code",
   "execution_count": 3,
   "metadata": {},
   "outputs": [],
   "source": [
    "data = pd.read_csv('Autotrade_EDA.csv')"
   ]
  },
  {
   "cell_type": "code",
   "execution_count": 4,
   "metadata": {},
   "outputs": [],
   "source": [
    "#dropping irrelvant columns"
   ]
  },
  {
   "cell_type": "code",
   "execution_count": 5,
   "metadata": {},
   "outputs": [],
   "source": [
    "data = data.drop(['Unnamed: 0','Car_Title'],axis=1)"
   ]
  },
  {
   "cell_type": "code",
   "execution_count": 6,
   "metadata": {},
   "outputs": [
    {
     "data": {
      "text/html": [
       "<div>\n",
       "<style scoped>\n",
       "    .dataframe tbody tr th:only-of-type {\n",
       "        vertical-align: middle;\n",
       "    }\n",
       "\n",
       "    .dataframe tbody tr th {\n",
       "        vertical-align: top;\n",
       "    }\n",
       "\n",
       "    .dataframe thead th {\n",
       "        text-align: right;\n",
       "    }\n",
       "</style>\n",
       "<table border=\"1\" class=\"dataframe\">\n",
       "  <thead>\n",
       "    <tr style=\"text-align: right;\">\n",
       "      <th></th>\n",
       "      <th>Car_Price</th>\n",
       "      <th>Car_Year</th>\n",
       "      <th>Car_Type_Door</th>\n",
       "      <th>Car_Mileage</th>\n",
       "      <th>Car_engine_size</th>\n",
       "      <th>Car_Horse_PW</th>\n",
       "      <th>Car_Type_Vehicle</th>\n",
       "      <th>Car_Filling_in</th>\n",
       "      <th>Car_Make</th>\n",
       "    </tr>\n",
       "  </thead>\n",
       "  <tbody>\n",
       "    <tr>\n",
       "      <th>0</th>\n",
       "      <td>13699</td>\n",
       "      <td>2018</td>\n",
       "      <td>SUV</td>\n",
       "      <td>19228</td>\n",
       "      <td>1.6L</td>\n",
       "      <td>132PS</td>\n",
       "      <td>Manual</td>\n",
       "      <td>Petrol</td>\n",
       "      <td>Hyundai</td>\n",
       "    </tr>\n",
       "    <tr>\n",
       "      <th>1</th>\n",
       "      <td>19000</td>\n",
       "      <td>2016</td>\n",
       "      <td>Coupe</td>\n",
       "      <td>12000</td>\n",
       "      <td>3.0L</td>\n",
       "      <td>326BHP</td>\n",
       "      <td>Automatic</td>\n",
       "      <td>Petrol</td>\n",
       "      <td>BMW</td>\n",
       "    </tr>\n",
       "    <tr>\n",
       "      <th>2</th>\n",
       "      <td>1205</td>\n",
       "      <td>2007</td>\n",
       "      <td>Hatchback</td>\n",
       "      <td>70699</td>\n",
       "      <td>1.6L</td>\n",
       "      <td>109BHP</td>\n",
       "      <td>Manual</td>\n",
       "      <td>Petrol</td>\n",
       "      <td>Nissan</td>\n",
       "    </tr>\n",
       "    <tr>\n",
       "      <th>3</th>\n",
       "      <td>5750</td>\n",
       "      <td>2005</td>\n",
       "      <td>SUV</td>\n",
       "      <td>137000</td>\n",
       "      <td>5.0L</td>\n",
       "      <td>307BHP</td>\n",
       "      <td>Automatic</td>\n",
       "      <td>Diesel</td>\n",
       "      <td>Volkswagen</td>\n",
       "    </tr>\n",
       "    <tr>\n",
       "      <th>4</th>\n",
       "      <td>5250</td>\n",
       "      <td>2009</td>\n",
       "      <td>Saloon</td>\n",
       "      <td>80040</td>\n",
       "      <td>3.0L</td>\n",
       "      <td>221BHP</td>\n",
       "      <td>Automatic</td>\n",
       "      <td>Diesel</td>\n",
       "      <td>Mercedes-Benz</td>\n",
       "    </tr>\n",
       "  </tbody>\n",
       "</table>\n",
       "</div>"
      ],
      "text/plain": [
       "   Car_Price  Car_Year Car_Type_Door  Car_Mileage Car_engine_size  \\\n",
       "0      13699      2018           SUV        19228            1.6L   \n",
       "1      19000      2016         Coupe        12000            3.0L   \n",
       "2       1205      2007     Hatchback        70699            1.6L   \n",
       "3       5750      2005           SUV       137000            5.0L   \n",
       "4       5250      2009        Saloon        80040            3.0L   \n",
       "\n",
       "  Car_Horse_PW Car_Type_Vehicle Car_Filling_in       Car_Make  \n",
       "0        132PS           Manual         Petrol        Hyundai  \n",
       "1       326BHP        Automatic         Petrol            BMW  \n",
       "2       109BHP           Manual         Petrol         Nissan  \n",
       "3       307BHP        Automatic         Diesel     Volkswagen  \n",
       "4       221BHP        Automatic         Diesel  Mercedes-Benz  "
      ]
     },
     "execution_count": 6,
     "metadata": {},
     "output_type": "execute_result"
    }
   ],
   "source": [
    "data.head()\n",
    "#data.Car_engine_size.str.replace('L','')"
   ]
  },
  {
   "cell_type": "code",
   "execution_count": 7,
   "metadata": {},
   "outputs": [
    {
     "name": "stdout",
     "output_type": "stream",
     "text": [
      "Dataset : (7365, 9)\n"
     ]
    }
   ],
   "source": [
    "print('Dataset :',data.shape)"
   ]
  },
  {
   "cell_type": "markdown",
   "metadata": {},
   "source": [
    "# get Dummies"
   ]
  },
  {
   "cell_type": "code",
   "execution_count": 8,
   "metadata": {},
   "outputs": [],
   "source": [
    "#Categorical Columns\n",
    "cat = data[[ 'Car_Type_Door',\n",
    "       'Car_engine_size', 'Car_Horse_PW', 'Car_Type_Vehicle', 'Car_Filling_in',\n",
    "       'Car_Make']]\n"
   ]
  },
  {
   "cell_type": "code",
   "execution_count": 9,
   "metadata": {},
   "outputs": [],
   "source": [
    "#Dummy variables \n",
    "dummie = pd.get_dummies(cat)"
   ]
  },
  {
   "cell_type": "code",
   "execution_count": 10,
   "metadata": {},
   "outputs": [],
   "source": [
    "#Concating the two DataFrames\n",
    "df = pd.concat([data,dummie],axis=1)"
   ]
  },
  {
   "cell_type": "code",
   "execution_count": 11,
   "metadata": {},
   "outputs": [],
   "source": [
    "#Dropping Original Columns\n",
    "\n",
    "df = df.drop([ 'Car_Type_Door',\n",
    "       'Car_engine_size', 'Car_Horse_PW', 'Car_Type_Vehicle', 'Car_Filling_in',\n",
    "       'Car_Make'],axis=1)"
   ]
  },
  {
   "cell_type": "code",
   "execution_count": 12,
   "metadata": {},
   "outputs": [
    {
     "data": {
      "text/html": [
       "<div>\n",
       "<style scoped>\n",
       "    .dataframe tbody tr th:only-of-type {\n",
       "        vertical-align: middle;\n",
       "    }\n",
       "\n",
       "    .dataframe tbody tr th {\n",
       "        vertical-align: top;\n",
       "    }\n",
       "\n",
       "    .dataframe thead th {\n",
       "        text-align: right;\n",
       "    }\n",
       "</style>\n",
       "<table border=\"1\" class=\"dataframe\">\n",
       "  <thead>\n",
       "    <tr style=\"text-align: right;\">\n",
       "      <th></th>\n",
       "      <th>Car_Price</th>\n",
       "      <th>Car_Year</th>\n",
       "      <th>Car_Mileage</th>\n",
       "      <th>Car_Type_Door_Convertible</th>\n",
       "      <th>Car_Type_Door_Coupe</th>\n",
       "      <th>Car_Type_Door_Estate</th>\n",
       "      <th>Car_Type_Door_Hatchback</th>\n",
       "      <th>Car_Type_Door_Limousine</th>\n",
       "      <th>Car_Type_Door_MPV</th>\n",
       "      <th>Car_Type_Door_Minibus</th>\n",
       "      <th>...</th>\n",
       "      <th>Car_Make_Smart</th>\n",
       "      <th>Car_Make_Ssangyong</th>\n",
       "      <th>Car_Make_Subaru</th>\n",
       "      <th>Car_Make_Suzuki</th>\n",
       "      <th>Car_Make_TVR</th>\n",
       "      <th>Car_Make_Toyota</th>\n",
       "      <th>Car_Make_Triumph</th>\n",
       "      <th>Car_Make_Vauxhall</th>\n",
       "      <th>Car_Make_Volkswagen</th>\n",
       "      <th>Car_Make_Volvo</th>\n",
       "    </tr>\n",
       "  </thead>\n",
       "  <tbody>\n",
       "    <tr>\n",
       "      <th>0</th>\n",
       "      <td>13699</td>\n",
       "      <td>2018</td>\n",
       "      <td>19228</td>\n",
       "      <td>0</td>\n",
       "      <td>0</td>\n",
       "      <td>0</td>\n",
       "      <td>0</td>\n",
       "      <td>0</td>\n",
       "      <td>0</td>\n",
       "      <td>0</td>\n",
       "      <td>...</td>\n",
       "      <td>0</td>\n",
       "      <td>0</td>\n",
       "      <td>0</td>\n",
       "      <td>0</td>\n",
       "      <td>0</td>\n",
       "      <td>0</td>\n",
       "      <td>0</td>\n",
       "      <td>0</td>\n",
       "      <td>0</td>\n",
       "      <td>0</td>\n",
       "    </tr>\n",
       "    <tr>\n",
       "      <th>1</th>\n",
       "      <td>19000</td>\n",
       "      <td>2016</td>\n",
       "      <td>12000</td>\n",
       "      <td>0</td>\n",
       "      <td>1</td>\n",
       "      <td>0</td>\n",
       "      <td>0</td>\n",
       "      <td>0</td>\n",
       "      <td>0</td>\n",
       "      <td>0</td>\n",
       "      <td>...</td>\n",
       "      <td>0</td>\n",
       "      <td>0</td>\n",
       "      <td>0</td>\n",
       "      <td>0</td>\n",
       "      <td>0</td>\n",
       "      <td>0</td>\n",
       "      <td>0</td>\n",
       "      <td>0</td>\n",
       "      <td>0</td>\n",
       "      <td>0</td>\n",
       "    </tr>\n",
       "    <tr>\n",
       "      <th>2</th>\n",
       "      <td>1205</td>\n",
       "      <td>2007</td>\n",
       "      <td>70699</td>\n",
       "      <td>0</td>\n",
       "      <td>0</td>\n",
       "      <td>0</td>\n",
       "      <td>1</td>\n",
       "      <td>0</td>\n",
       "      <td>0</td>\n",
       "      <td>0</td>\n",
       "      <td>...</td>\n",
       "      <td>0</td>\n",
       "      <td>0</td>\n",
       "      <td>0</td>\n",
       "      <td>0</td>\n",
       "      <td>0</td>\n",
       "      <td>0</td>\n",
       "      <td>0</td>\n",
       "      <td>0</td>\n",
       "      <td>0</td>\n",
       "      <td>0</td>\n",
       "    </tr>\n",
       "    <tr>\n",
       "      <th>3</th>\n",
       "      <td>5750</td>\n",
       "      <td>2005</td>\n",
       "      <td>137000</td>\n",
       "      <td>0</td>\n",
       "      <td>0</td>\n",
       "      <td>0</td>\n",
       "      <td>0</td>\n",
       "      <td>0</td>\n",
       "      <td>0</td>\n",
       "      <td>0</td>\n",
       "      <td>...</td>\n",
       "      <td>0</td>\n",
       "      <td>0</td>\n",
       "      <td>0</td>\n",
       "      <td>0</td>\n",
       "      <td>0</td>\n",
       "      <td>0</td>\n",
       "      <td>0</td>\n",
       "      <td>0</td>\n",
       "      <td>1</td>\n",
       "      <td>0</td>\n",
       "    </tr>\n",
       "    <tr>\n",
       "      <th>4</th>\n",
       "      <td>5250</td>\n",
       "      <td>2009</td>\n",
       "      <td>80040</td>\n",
       "      <td>0</td>\n",
       "      <td>0</td>\n",
       "      <td>0</td>\n",
       "      <td>0</td>\n",
       "      <td>0</td>\n",
       "      <td>0</td>\n",
       "      <td>0</td>\n",
       "      <td>...</td>\n",
       "      <td>0</td>\n",
       "      <td>0</td>\n",
       "      <td>0</td>\n",
       "      <td>0</td>\n",
       "      <td>0</td>\n",
       "      <td>0</td>\n",
       "      <td>0</td>\n",
       "      <td>0</td>\n",
       "      <td>0</td>\n",
       "      <td>0</td>\n",
       "    </tr>\n",
       "  </tbody>\n",
       "</table>\n",
       "<p>5 rows × 475 columns</p>\n",
       "</div>"
      ],
      "text/plain": [
       "   Car_Price  Car_Year  Car_Mileage  Car_Type_Door_Convertible  \\\n",
       "0      13699      2018        19228                          0   \n",
       "1      19000      2016        12000                          0   \n",
       "2       1205      2007        70699                          0   \n",
       "3       5750      2005       137000                          0   \n",
       "4       5250      2009        80040                          0   \n",
       "\n",
       "   Car_Type_Door_Coupe  Car_Type_Door_Estate  Car_Type_Door_Hatchback  \\\n",
       "0                    0                     0                        0   \n",
       "1                    1                     0                        0   \n",
       "2                    0                     0                        1   \n",
       "3                    0                     0                        0   \n",
       "4                    0                     0                        0   \n",
       "\n",
       "   Car_Type_Door_Limousine  Car_Type_Door_MPV  Car_Type_Door_Minibus  ...  \\\n",
       "0                        0                  0                      0  ...   \n",
       "1                        0                  0                      0  ...   \n",
       "2                        0                  0                      0  ...   \n",
       "3                        0                  0                      0  ...   \n",
       "4                        0                  0                      0  ...   \n",
       "\n",
       "   Car_Make_Smart  Car_Make_Ssangyong  Car_Make_Subaru  Car_Make_Suzuki  \\\n",
       "0               0                   0                0                0   \n",
       "1               0                   0                0                0   \n",
       "2               0                   0                0                0   \n",
       "3               0                   0                0                0   \n",
       "4               0                   0                0                0   \n",
       "\n",
       "   Car_Make_TVR  Car_Make_Toyota  Car_Make_Triumph  Car_Make_Vauxhall  \\\n",
       "0             0                0                 0                  0   \n",
       "1             0                0                 0                  0   \n",
       "2             0                0                 0                  0   \n",
       "3             0                0                 0                  0   \n",
       "4             0                0                 0                  0   \n",
       "\n",
       "   Car_Make_Volkswagen  Car_Make_Volvo  \n",
       "0                    0               0  \n",
       "1                    0               0  \n",
       "2                    0               0  \n",
       "3                    1               0  \n",
       "4                    0               0  \n",
       "\n",
       "[5 rows x 475 columns]"
      ]
     },
     "execution_count": 12,
     "metadata": {},
     "output_type": "execute_result"
    }
   ],
   "source": [
    "#first five rows\n",
    "df.head()"
   ]
  },
  {
   "cell_type": "code",
   "execution_count": 13,
   "metadata": {},
   "outputs": [
    {
     "name": "stdout",
     "output_type": "stream",
     "text": [
      "Dataset : (7365, 475)\n"
     ]
    }
   ],
   "source": [
    "print('Dataset :',df.shape)"
   ]
  },
  {
   "cell_type": "code",
   "execution_count": 14,
   "metadata": {},
   "outputs": [
    {
     "data": {
      "text/plain": [
       "0"
      ]
     },
     "execution_count": 14,
     "metadata": {},
     "output_type": "execute_result"
    }
   ],
   "source": [
    "#mising data \n",
    "df.isnull().sum().sum()"
   ]
  },
  {
   "cell_type": "markdown",
   "metadata": {},
   "source": [
    "# Model "
   ]
  },
  {
   "cell_type": "code",
   "execution_count": 15,
   "metadata": {},
   "outputs": [],
   "source": [
    "#Setting Variables\n",
    "X = df.drop('Car_Price',axis=1)\n",
    "y = df['Car_Price']"
   ]
  },
  {
   "cell_type": "markdown",
   "metadata": {},
   "source": [
    "### Sklearn Libraries"
   ]
  },
  {
   "cell_type": "code",
   "execution_count": 16,
   "metadata": {},
   "outputs": [],
   "source": [
    "#splitting the data set\n",
    "from sklearn.model_selection import train_test_split\n",
    "from sklearn.model_selection import cross_val_score\n",
    "from sklearn.model_selection import GridSearchCV\n",
    "\n",
    "# Fitting the Model \n",
    "from sklearn.linear_model import LinearRegression,Lasso\n",
    "from sklearn.ensemble import RandomForestRegressor\n",
    "\n",
    "#evaluation\n",
    "from sklearn.metrics import mean_absolute_error,r2_score"
   ]
  },
  {
   "cell_type": "code",
   "execution_count": 17,
   "metadata": {},
   "outputs": [],
   "source": [
    "#train_test_split\n",
    "X_train,X_test,y_train,y_test = train_test_split(X,y,test_size=0.25,random_state=42)"
   ]
  },
  {
   "cell_type": "code",
   "execution_count": 18,
   "metadata": {},
   "outputs": [
    {
     "data": {
      "text/plain": [
       "-37109418.1513734"
      ]
     },
     "execution_count": 18,
     "metadata": {},
     "output_type": "execute_result"
    }
   ],
   "source": [
    "#Linear Regression\n",
    "lm = LinearRegression()\n",
    "lm.fit(X_train,y_train)\n",
    "np.mean(cross_val_score(lm,X_train,y_train,scoring='neg_mean_absolute_error'))"
   ]
  },
  {
   "cell_type": "code",
   "execution_count": 19,
   "metadata": {},
   "outputs": [
    {
     "name": "stderr",
     "output_type": "stream",
     "text": [
      "C:\\Users\\Owner\\Anaconda3\\lib\\site-packages\\sklearn\\linear_model\\_coordinate_descent.py:476: ConvergenceWarning: Objective did not converge. You might want to increase the number of iterations. Duality gap: 2796141162.616185, tolerance: 13354931.228233974\n",
      "  positive)\n"
     ]
    },
    {
     "data": {
      "text/plain": [
       "-1584.7815434423096"
      ]
     },
     "execution_count": 19,
     "metadata": {},
     "output_type": "execute_result"
    }
   ],
   "source": [
    "#Lasso\n",
    "lm_1 = Lasso()\n",
    "lm_1.fit(X_train,y_train)\n",
    "np.mean(cross_val_score(lm_1,X_train,y_train,scoring='neg_mean_absolute_error'))"
   ]
  },
  {
   "cell_type": "code",
   "execution_count": 84,
   "metadata": {},
   "outputs": [
    {
     "data": {
      "text/plain": [
       "-1863.3711555949023"
      ]
     },
     "execution_count": 84,
     "metadata": {},
     "output_type": "execute_result"
    }
   ],
   "source": [
    "#Decision Tree\n",
    "from sklearn.tree import DecisionTreeRegressor\n",
    "tree = DecisionTreeRegressor()\n",
    "tree.fit(X_train,y_train)\n",
    "np.mean(cross_val_score(tree,X_train,y_train,scoring='neg_mean_absolute_error'))"
   ]
  },
  {
   "cell_type": "code",
   "execution_count": 85,
   "metadata": {},
   "outputs": [
    {
     "data": {
      "text/plain": [
       "-3747.904079447833"
      ]
     },
     "execution_count": 85,
     "metadata": {},
     "output_type": "execute_result"
    }
   ],
   "source": [
    "#KNeighbour \n",
    "from sklearn.neighbors import KNeighborsRegressor\n",
    "Knn = KNeighborsRegressor()\n",
    "Knn.fit(X_train,y_train)\n",
    "np.mean(cross_val_score(Knn,X_train,y_train,scoring='neg_mean_absolute_error'))"
   ]
  },
  {
   "cell_type": "code",
   "execution_count": 86,
   "metadata": {},
   "outputs": [
    {
     "data": {
      "text/plain": [
       "-1435.0098741264787"
      ]
     },
     "execution_count": 86,
     "metadata": {},
     "output_type": "execute_result"
    }
   ],
   "source": [
    "#Random Forest \n",
    "from sklearn.ensemble import RandomForestRegressor\n",
    "rg = RandomForestRegressor()\n",
    "rg.fit(X_train,y_train)\n",
    "np.mean(cross_val_score(rg,X_train,y_train,scoring='neg_mean_absolute_error'))"
   ]
  },
  {
   "cell_type": "markdown",
   "metadata": {},
   "source": [
    "Random forest is the best model so far, I'm going to using GridSearchCV to make the model better."
   ]
  },
  {
   "cell_type": "markdown",
   "metadata": {},
   "source": [
    "## Hyperparameter - GridSearchCV"
   ]
  },
  {
   "cell_type": "code",
   "execution_count": 21,
   "metadata": {},
   "outputs": [],
   "source": [
    "# Create the parameter grid based on the results of random search \n",
    "param_grid = {\n",
    "    'criterion': ('mae','mse'),\n",
    "    'max_features': ['auto','sqrt','log2'],\n",
    "    'n_estimators': range(1,100,10)\n",
    "}\n",
    "# Create a based model\n",
    "rf = RandomForestRegressor()\n",
    "# Instantiate the grid search model\n",
    "grid_search = GridSearchCV(estimator = rf, param_grid = param_grid, scoring='neg_mean_absolute_error',\n",
    "                          cv = 3, n_jobs = -1, verbose = 2)"
   ]
  },
  {
   "cell_type": "code",
   "execution_count": 22,
   "metadata": {},
   "outputs": [
    {
     "name": "stdout",
     "output_type": "stream",
     "text": [
      "Fitting 3 folds for each of 60 candidates, totalling 180 fits\n"
     ]
    },
    {
     "name": "stderr",
     "output_type": "stream",
     "text": [
      "[Parallel(n_jobs=-1)]: Using backend LokyBackend with 4 concurrent workers.\n",
      "[Parallel(n_jobs=-1)]: Done  33 tasks      | elapsed: 46.1min\n",
      "[Parallel(n_jobs=-1)]: Done 154 tasks      | elapsed: 58.6min\n",
      "[Parallel(n_jobs=-1)]: Done 180 out of 180 | elapsed: 59.0min finished\n"
     ]
    },
    {
     "data": {
      "text/plain": [
       "GridSearchCV(cv=3, error_score=nan,\n",
       "             estimator=RandomForestRegressor(bootstrap=True, ccp_alpha=0.0,\n",
       "                                             criterion='mse', max_depth=None,\n",
       "                                             max_features='auto',\n",
       "                                             max_leaf_nodes=None,\n",
       "                                             max_samples=None,\n",
       "                                             min_impurity_decrease=0.0,\n",
       "                                             min_impurity_split=None,\n",
       "                                             min_samples_leaf=1,\n",
       "                                             min_samples_split=2,\n",
       "                                             min_weight_fraction_leaf=0.0,\n",
       "                                             n_estimators=100, n_jobs=None,\n",
       "                                             oob_score=False, random_state=None,\n",
       "                                             verbose=0, warm_start=False),\n",
       "             iid='deprecated', n_jobs=-1,\n",
       "             param_grid={'criterion': ('mae', 'mse'),\n",
       "                         'max_features': ['auto', 'sqrt', 'log2'],\n",
       "                         'n_estimators': range(1, 100, 10)},\n",
       "             pre_dispatch='2*n_jobs', refit=True, return_train_score=False,\n",
       "             scoring='neg_mean_absolute_error', verbose=2)"
      ]
     },
     "execution_count": 22,
     "metadata": {},
     "output_type": "execute_result"
    }
   ],
   "source": [
    "grid_search.fit(X,y)"
   ]
  },
  {
   "cell_type": "code",
   "execution_count": 23,
   "metadata": {
    "scrolled": true
   },
   "outputs": [
    {
     "data": {
      "text/plain": [
       "-1440.5990440458045"
      ]
     },
     "execution_count": 23,
     "metadata": {},
     "output_type": "execute_result"
    }
   ],
   "source": [
    "grid_search.best_score_"
   ]
  },
  {
   "cell_type": "code",
   "execution_count": 24,
   "metadata": {},
   "outputs": [
    {
     "data": {
      "text/plain": [
       "RandomForestRegressor(bootstrap=True, ccp_alpha=0.0, criterion='mse',\n",
       "                      max_depth=None, max_features='sqrt', max_leaf_nodes=None,\n",
       "                      max_samples=None, min_impurity_decrease=0.0,\n",
       "                      min_impurity_split=None, min_samples_leaf=1,\n",
       "                      min_samples_split=2, min_weight_fraction_leaf=0.0,\n",
       "                      n_estimators=91, n_jobs=None, oob_score=False,\n",
       "                      random_state=None, verbose=0, warm_start=False)"
      ]
     },
     "execution_count": 24,
     "metadata": {},
     "output_type": "execute_result"
    }
   ],
   "source": [
    "grid_search.best_estimator_"
   ]
  },
  {
   "cell_type": "markdown",
   "metadata": {},
   "source": [
    "using the information above to fit the model again on random forest regression "
   ]
  },
  {
   "cell_type": "code",
   "execution_count": 29,
   "metadata": {},
   "outputs": [
    {
     "data": {
      "text/plain": [
       "-1381.2215020161352"
      ]
     },
     "execution_count": 29,
     "metadata": {},
     "output_type": "execute_result"
    }
   ],
   "source": [
    "rfc1=RandomForestRegressor(random_state=42,bootstrap=True, ccp_alpha=0.0, criterion='mse',\n",
    "                      max_depth=None, max_features='sqrt', max_leaf_nodes=None,\n",
    "                      max_samples=None, min_impurity_decrease=0.0,\n",
    "                      min_impurity_split=None, min_samples_leaf=1,\n",
    "                      min_samples_split=2, min_weight_fraction_leaf=0.0,\n",
    "                      n_estimators=91, n_jobs=None, oob_score=False, verbose=0, warm_start=False)\n",
    "rfc1.fit(X_train, y_train)\n",
    "np.mean(cross_val_score(rfc1,X_train,y_train,scoring='neg_mean_absolute_error'))"
   ]
  },
  {
   "cell_type": "code",
   "execution_count": 87,
   "metadata": {},
   "outputs": [],
   "source": [
    "#test predict\n",
    "lm_pred = lm.predict(X_test)\n",
    "lm_1_pred = lm_1.predict(X_test)\n",
    "tree_prd = tree.predict(X_test)\n",
    "rg_pred = rg.predict(X_test)\n",
    "gs_pred = grid_search.best_estimator_.predict(X_test)\n",
    "rfc_pred = rfc1.predict(X_test)"
   ]
  },
  {
   "cell_type": "code",
   "execution_count": 88,
   "metadata": {},
   "outputs": [
    {
     "name": "stdout",
     "output_type": "stream",
     "text": [
      "mae for Linear Regression : 68542375.27289268\n",
      "mae for Lasso : 1609.0466759849664\n",
      "mae for Decision Tree : 1759.26723669924\n",
      "mae for Random Forest Regressor : 1387.4675514192647\n",
      "mae for Grid Search CV : 478.2970227536712\n",
      "mae for new Random Forest Regressor : 1366.6207392133056\n"
     ]
    }
   ],
   "source": [
    "#mae on testing dataset\n",
    "\n",
    "from sklearn.metrics import mean_absolute_error,r2_score\n",
    "print('mae for Linear Regression :',mean_absolute_error(y_test,lm_pred))\n",
    "print('mae for Lasso :',mean_absolute_error(y_test,lm_1_pred))\n",
    "print('mae for Decision Tree :',mean_absolute_error(y_test,tree_prd))\n",
    "print('mae for Random Forest Regressor :',mean_absolute_error(y_test,rg_pred))\n",
    "print('mae for Grid Search CV :',mean_absolute_error(y_test,gs_pred))\n",
    "print('mae for new Random Forest Regressor :',mean_absolute_error(y_test,rfc_pred))"
   ]
  },
  {
   "cell_type": "code",
   "execution_count": null,
   "metadata": {},
   "outputs": [],
   "source": []
  },
  {
   "cell_type": "code",
   "execution_count": 33,
   "metadata": {},
   "outputs": [
    {
     "name": "stdout",
     "output_type": "stream",
     "text": [
      "r2 score Testing for Linear Regression : -34302577027.46132\n",
      "r2 score Testing for Lasso: 0.8417540247476921\n",
      "r2 score Testing for Random Forest Regresso : 0.8684575490832105\n",
      "r2 score Testing for Grid Search CV : 0.9846806732493965\n",
      "r2 score Testing for new Random Forest Regressor : 0.87621111440777\n"
     ]
    }
   ],
   "source": [
    "#r^2 score on Testing dataset\n",
    "print('r2 score Testing for Linear Regression :',r2_score(y_test,lm_pred))\n",
    "print('r2 score Testing for Lasso:',r2_score(y_test,lm_1_pred))\n",
    "print('r2 score Testing for Random Forest Regresso :',r2_score(y_test,rg_pred))\n",
    "print('r2 score Testing for Grid Search CV :',r2_score(y_test,gs_pred))\n",
    "print('r2 score Testing for new Random Forest Regressor :',r2_score(y_test,rfc_pred))"
   ]
  },
  {
   "cell_type": "code",
   "execution_count": 36,
   "metadata": {},
   "outputs": [
    {
     "name": "stdout",
     "output_type": "stream",
     "text": [
      "r2 score for Linear Regression : 0.8861079863493933\n",
      "r2 score for Lasso : 0.8692984197869568\n",
      "r2 score for Random Forest Regressor : 0.9802279013167144\n",
      "r2 score for Grid Search CV : 0.9842433761732711\n",
      "r2 score Testing for new Random Forest Regressor : 0.9827649347704047\n"
     ]
    }
   ],
   "source": [
    "#r^2 score on Training dataset\n",
    "print('r2 score for Linear Regression :',r2_score(y_train,lm.predict(X_train)))\n",
    "print('r2 score for Lasso :',r2_score(y_train,lm_1.predict(X_train)))\n",
    "print('r2 score for Random Forest Regressor :',r2_score(y_train,rg.predict(X_train)))\n",
    "print('r2 score for Grid Search CV :',r2_score(y_train,grid_search.best_estimator_.predict(X_train)))\n",
    "print('r2 score Testing for new Random Forest Regressor :',r2_score(y_train,rfc1.predict(X_train)))"
   ]
  },
  {
   "cell_type": "markdown",
   "metadata": {},
   "source": [
    "The Random Forest model far outperformed using GridSearchCV on both testing and training set.\n",
    "\n",
    "Best Model produce MAE = £479"
   ]
  },
  {
   "cell_type": "markdown",
   "metadata": {},
   "source": [
    "# Feature Importances"
   ]
  },
  {
   "cell_type": "code",
   "execution_count": 37,
   "metadata": {},
   "outputs": [],
   "source": [
    "# rename column names \n",
    "col = X.columns.str.replace('Car_Type_','').str.replace('Car_','').str.replace('_',' ')"
   ]
  },
  {
   "cell_type": "code",
   "execution_count": 39,
   "metadata": {},
   "outputs": [],
   "source": [
    "\n",
    "feat_importances = pd.Series(grid_search.best_estimator_.feature_importances_,index=col)"
   ]
  },
  {
   "cell_type": "code",
   "execution_count": 48,
   "metadata": {},
   "outputs": [],
   "source": [
    "import matplotlib.style as style \n",
    "sns.set_style(\"darkgrid\")"
   ]
  },
  {
   "cell_type": "code",
   "execution_count": 89,
   "metadata": {},
   "outputs": [
    {
     "data": {
      "image/png": "[encoded data removed]",
      "text/plain": [
       "<Figure size 921.6x633.6 with 1 Axes>"
      ]
     },
     "metadata": {},
     "output_type": "display_data"
    }
   ],
   "source": [
    "barplot = feat_importances.mul(100).nlargest(10)\n",
    "colormat= ['darkred','darkred','darkgreen','darkgreen','darkgreen','darkgreen','darkgreen','darkgreen'\n",
    "           ,'darkgreen','darkgreen'  ]\n",
    "\n",
    "barplot.plot(kind='bar',title='Feature importances', color = colormat, alpha = 0.8)\n",
    "#barplot[0]('darkred')\n",
    "plt.xlabel('Factors', fontsize = 15, weight = 'bold')\n",
    "plt.ylabel('%', fontsize = 15, weight = 'bold')\n",
    "plt.show()"
   ]
  },
  {
   "cell_type": "code",
   "execution_count": 50,
   "metadata": {},
   "outputs": [
    {
     "data": {
      "text/plain": [
       "41.41983107135382"
      ]
     },
     "execution_count": 50,
     "metadata": {},
     "output_type": "execute_result"
    }
   ],
   "source": [
    "feat_importances.mul(100).nlargest(2).sum()"
   ]
  },
  {
   "cell_type": "markdown",
   "metadata": {},
   "source": [
    "Two fifth of the features are contribute by the Year and Mileage of the car followed by other important features. From early analysis, it is clearly obvious how many price is affected by year and mileage.\n"
   ]
  },
  {
   "cell_type": "code",
   "execution_count": null,
   "metadata": {},
   "outputs": [],
   "source": []
  },
  {
   "cell_type": "markdown",
   "metadata": {},
   "source": [
    "# Save Model "
   ]
  },
  {
   "cell_type": "code",
   "execution_count": 79,
   "metadata": {},
   "outputs": [],
   "source": [
    "import pickle\n",
    "pickl = {'model': rfc1}\n",
    "pickle.dump( pickl, open( 'model_file' + \".p\", \"wb\" ) )"
   ]
  },
  {
   "cell_type": "markdown",
   "metadata": {},
   "source": [
    "# Load Model - to test"
   ]
  },
  {
   "cell_type": "code",
   "execution_count": 80,
   "metadata": {},
   "outputs": [],
   "source": [
    "file_name = \"model_file.p\"\n",
    "with open(file_name, 'rb') as pickled:\n",
    "    data = pickle.load(pickled)\n",
    "    model = data['model']"
   ]
  },
  {
   "cell_type": "code",
   "execution_count": 81,
   "metadata": {
    "scrolled": false
   },
   "outputs": [
    {
     "data": {
      "text/plain": [
       "8070.912087912088"
      ]
     },
     "execution_count": 81,
     "metadata": {},
     "output_type": "execute_result"
    }
   ],
   "source": [
    "#testing the model \n",
    "model.predict(np.array(list(X_test.iloc[29,:])).reshape(1,-1))[0]"
   ]
  },
  {
   "cell_type": "code",
   "execution_count": 82,
   "metadata": {},
   "outputs": [
    {
     "data": {
      "text/plain": [
       "Car_Year                     2019\n",
       "Car_Mileage                  6750\n",
       "Car_Type_Door_Convertible       0\n",
       "Car_Type_Door_Coupe             0\n",
       "Car_Type_Door_Estate            0\n",
       "                             ... \n",
       "Car_Make_Toyota                 0\n",
       "Car_Make_Triumph                0\n",
       "Car_Make_Vauxhall               1\n",
       "Car_Make_Volkswagen             0\n",
       "Car_Make_Volvo                  0\n",
       "Name: 865, Length: 474, dtype: int64"
      ]
     },
     "execution_count": 82,
     "metadata": {},
     "output_type": "execute_result"
    }
   ],
   "source": [
    "X_test.iloc[29,:]"
   ]
  },
  {
   "cell_type": "code",
   "execution_count": null,
   "metadata": {},
   "outputs": [],
   "source": []
  }
 ],
 "metadata": {
  "kernelspec": {
   "display_name": "Python 3",
   "language": "python",
   "name": "python3"
  },
  "language_info": {
   "codemirror_mode": {
    "name": "ipython",
    "version": 3
   },
   "file_extension": ".py",
   "mimetype": "text/x-python",
   "name": "python",
   "nbconvert_exporter": "python",
   "pygments_lexer": "ipython3",
   "version": "3.6.5"
  }
 },
 "nbformat": 4,
 "nbformat_minor": 4
}
